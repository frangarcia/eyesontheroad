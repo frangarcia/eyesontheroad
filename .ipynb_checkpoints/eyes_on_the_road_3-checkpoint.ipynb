{
 "cells": [
  {
   "cell_type": "code",
   "execution_count": 52,
   "metadata": {
    "ExecuteTime": {
     "end_time": "2023-06-05T21:58:29.475079800Z",
     "start_time": "2023-06-05T21:58:29.452971Z"
    },
    "collapsed": true
   },
   "outputs": [],
   "source": [
    "import numpy as np\n",
    "import pandas as pd\n",
    "pd.set_option(\"display.precision\", 2)\n",
    "from matplotlib import pyplot as plt\n",
    "# Graphics in SVG format are more sharp and legible\n",
    "%config InlineBackend.figure_format = 'svg'\n",
    "#!pip install seaborn\n",
    "#!pip install scikit-learn\n",
    "import seaborn as sns\n",
    "sns.set()\n",
    "import time\n",
    "from sklearn.model_selection import train_test_split\n",
    "from sklearn.svm import SVC\n",
    "from sklearn.preprocessing import MinMaxScaler, label_binarize\n",
    "from sklearn.model_selection import GridSearchCV\n",
    "from sklearn.ensemble import RandomForestClassifier, GradientBoostingClassifier\n",
    "from sklearn.metrics import confusion_matrix, roc_curve, auc, accuracy_score, classification_report\n",
    "#!pip install joblib\n",
    "import joblib\n",
    "from scipy.spatial import distance as dist\n",
    "from imutils import face_utils"
   ]
  },
  {
   "cell_type": "code",
   "execution_count": 53,
   "metadata": {
    "ExecuteTime": {
     "end_time": "2023-06-05T21:58:29.525902400Z",
     "start_time": "2023-06-05T21:58:29.461111100Z"
    }
   },
   "outputs": [],
   "source": [
    "CSV_FILE = 'datasets/landmarks_ratios.csv'\n",
    "MODEL_PATH = 'models/landmarks'"
   ]
  },
  {
   "cell_type": "code",
   "execution_count": 54,
   "metadata": {
    "ExecuteTime": {
     "end_time": "2023-06-05T21:58:29.527902800Z",
     "start_time": "2023-06-05T21:58:29.478084Z"
    }
   },
   "outputs": [
    {
     "data": {
      "text/html": [
       "<div>\n",
       "<style scoped>\n",
       "    .dataframe tbody tr th:only-of-type {\n",
       "        vertical-align: middle;\n",
       "    }\n",
       "\n",
       "    .dataframe tbody tr th {\n",
       "        vertical-align: top;\n",
       "    }\n",
       "\n",
       "    .dataframe thead th {\n",
       "        text-align: right;\n",
       "    }\n",
       "</style>\n",
       "<table border=\"1\" class=\"dataframe\">\n",
       "  <thead>\n",
       "    <tr style=\"text-align: right;\">\n",
       "      <th></th>\n",
       "      <th>Image</th>\n",
       "      <th>Left_Eye_AR</th>\n",
       "      <th>Right_Eye_AR</th>\n",
       "      <th>Mouth_AR</th>\n",
       "      <th>Awake</th>\n",
       "    </tr>\n",
       "  </thead>\n",
       "  <tbody>\n",
       "    <tr>\n",
       "      <th>0</th>\n",
       "      <td>./dmd/binary_labels/drowsy/823.jpg</td>\n",
       "      <td>0.18</td>\n",
       "      <td>0.21</td>\n",
       "      <td>0.30</td>\n",
       "      <td>0</td>\n",
       "    </tr>\n",
       "    <tr>\n",
       "      <th>1</th>\n",
       "      <td>./dmd/binary_labels/drowsy/4217.jpg</td>\n",
       "      <td>0.28</td>\n",
       "      <td>0.25</td>\n",
       "      <td>0.03</td>\n",
       "      <td>0</td>\n",
       "    </tr>\n",
       "    <tr>\n",
       "      <th>2</th>\n",
       "      <td>./dmd/binary_labels/drowsy/3578.jpg</td>\n",
       "      <td>0.31</td>\n",
       "      <td>0.29</td>\n",
       "      <td>0.62</td>\n",
       "      <td>0</td>\n",
       "    </tr>\n",
       "    <tr>\n",
       "      <th>3</th>\n",
       "      <td>./dmd/binary_labels/drowsy/2666.jpg</td>\n",
       "      <td>0.38</td>\n",
       "      <td>0.39</td>\n",
       "      <td>0.08</td>\n",
       "      <td>0</td>\n",
       "    </tr>\n",
       "    <tr>\n",
       "      <th>4</th>\n",
       "      <td>./dmd/binary_labels/drowsy/5109.jpg</td>\n",
       "      <td>0.26</td>\n",
       "      <td>0.26</td>\n",
       "      <td>0.09</td>\n",
       "      <td>0</td>\n",
       "    </tr>\n",
       "  </tbody>\n",
       "</table>\n",
       "</div>"
      ],
      "text/plain": [
       "                                 Image  Left_Eye_AR  Right_Eye_AR  Mouth_AR   \n",
       "0   ./dmd/binary_labels/drowsy/823.jpg         0.18          0.21      0.30  \\\n",
       "1  ./dmd/binary_labels/drowsy/4217.jpg         0.28          0.25      0.03   \n",
       "2  ./dmd/binary_labels/drowsy/3578.jpg         0.31          0.29      0.62   \n",
       "3  ./dmd/binary_labels/drowsy/2666.jpg         0.38          0.39      0.08   \n",
       "4  ./dmd/binary_labels/drowsy/5109.jpg         0.26          0.26      0.09   \n",
       "\n",
       "   Awake  \n",
       "0      0  \n",
       "1      0  \n",
       "2      0  \n",
       "3      0  \n",
       "4      0  "
      ]
     },
     "execution_count": 54,
     "metadata": {},
     "output_type": "execute_result"
    }
   ],
   "source": [
    "data = pd.read_csv(CSV_FILE)\n",
    "data.head(5)"
   ]
  },
  {
   "cell_type": "code",
   "execution_count": 55,
   "metadata": {
    "ExecuteTime": {
     "end_time": "2023-06-05T21:58:29.527902800Z",
     "start_time": "2023-06-05T21:58:29.509863900Z"
    }
   },
   "outputs": [
    {
     "data": {
      "text/html": [
       "<div>\n",
       "<style scoped>\n",
       "    .dataframe tbody tr th:only-of-type {\n",
       "        vertical-align: middle;\n",
       "    }\n",
       "\n",
       "    .dataframe tbody tr th {\n",
       "        vertical-align: top;\n",
       "    }\n",
       "\n",
       "    .dataframe thead th {\n",
       "        text-align: right;\n",
       "    }\n",
       "</style>\n",
       "<table border=\"1\" class=\"dataframe\">\n",
       "  <thead>\n",
       "    <tr style=\"text-align: right;\">\n",
       "      <th></th>\n",
       "      <th>Left_Eye_AR</th>\n",
       "      <th>Right_Eye_AR</th>\n",
       "      <th>Mouth_AR</th>\n",
       "      <th>Awake</th>\n",
       "    </tr>\n",
       "  </thead>\n",
       "  <tbody>\n",
       "    <tr>\n",
       "      <th>0</th>\n",
       "      <td>0.18</td>\n",
       "      <td>0.21</td>\n",
       "      <td>0.30</td>\n",
       "      <td>0</td>\n",
       "    </tr>\n",
       "    <tr>\n",
       "      <th>1</th>\n",
       "      <td>0.28</td>\n",
       "      <td>0.25</td>\n",
       "      <td>0.03</td>\n",
       "      <td>0</td>\n",
       "    </tr>\n",
       "    <tr>\n",
       "      <th>2</th>\n",
       "      <td>0.31</td>\n",
       "      <td>0.29</td>\n",
       "      <td>0.62</td>\n",
       "      <td>0</td>\n",
       "    </tr>\n",
       "    <tr>\n",
       "      <th>3</th>\n",
       "      <td>0.38</td>\n",
       "      <td>0.39</td>\n",
       "      <td>0.08</td>\n",
       "      <td>0</td>\n",
       "    </tr>\n",
       "    <tr>\n",
       "      <th>4</th>\n",
       "      <td>0.26</td>\n",
       "      <td>0.26</td>\n",
       "      <td>0.09</td>\n",
       "      <td>0</td>\n",
       "    </tr>\n",
       "  </tbody>\n",
       "</table>\n",
       "</div>"
      ],
      "text/plain": [
       "   Left_Eye_AR  Right_Eye_AR  Mouth_AR  Awake\n",
       "0         0.18          0.21      0.30      0\n",
       "1         0.28          0.25      0.03      0\n",
       "2         0.31          0.29      0.62      0\n",
       "3         0.38          0.39      0.08      0\n",
       "4         0.26          0.26      0.09      0"
      ]
     },
     "execution_count": 55,
     "metadata": {},
     "output_type": "execute_result"
    }
   ],
   "source": [
    "data = data.drop(columns=['Image'])\n",
    "data.head(5)"
   ]
  },
  {
   "cell_type": "code",
   "execution_count": 56,
   "metadata": {
    "ExecuteTime": {
     "end_time": "2023-06-05T21:58:29.545479900Z",
     "start_time": "2023-06-05T21:58:29.525902400Z"
    }
   },
   "outputs": [
    {
     "data": {
      "text/html": [
       "<div>\n",
       "<style scoped>\n",
       "    .dataframe tbody tr th:only-of-type {\n",
       "        vertical-align: middle;\n",
       "    }\n",
       "\n",
       "    .dataframe tbody tr th {\n",
       "        vertical-align: top;\n",
       "    }\n",
       "\n",
       "    .dataframe thead th {\n",
       "        text-align: right;\n",
       "    }\n",
       "</style>\n",
       "<table border=\"1\" class=\"dataframe\">\n",
       "  <thead>\n",
       "    <tr style=\"text-align: right;\">\n",
       "      <th></th>\n",
       "      <th>Left_Eye_AR</th>\n",
       "      <th>Right_Eye_AR</th>\n",
       "      <th>Mouth_AR</th>\n",
       "      <th>Awake</th>\n",
       "    </tr>\n",
       "  </thead>\n",
       "  <tbody>\n",
       "    <tr>\n",
       "      <th>count</th>\n",
       "      <td>8130.00</td>\n",
       "      <td>8130.00</td>\n",
       "      <td>8130.00</td>\n",
       "      <td>8130.00</td>\n",
       "    </tr>\n",
       "    <tr>\n",
       "      <th>mean</th>\n",
       "      <td>0.27</td>\n",
       "      <td>0.27</td>\n",
       "      <td>0.13</td>\n",
       "      <td>0.53</td>\n",
       "    </tr>\n",
       "    <tr>\n",
       "      <th>std</th>\n",
       "      <td>0.08</td>\n",
       "      <td>0.07</td>\n",
       "      <td>0.20</td>\n",
       "      <td>0.50</td>\n",
       "    </tr>\n",
       "    <tr>\n",
       "      <th>min</th>\n",
       "      <td>0.06</td>\n",
       "      <td>0.06</td>\n",
       "      <td>0.00</td>\n",
       "      <td>0.00</td>\n",
       "    </tr>\n",
       "    <tr>\n",
       "      <th>25%</th>\n",
       "      <td>0.22</td>\n",
       "      <td>0.22</td>\n",
       "      <td>0.03</td>\n",
       "      <td>0.00</td>\n",
       "    </tr>\n",
       "    <tr>\n",
       "      <th>50%</th>\n",
       "      <td>0.29</td>\n",
       "      <td>0.28</td>\n",
       "      <td>0.04</td>\n",
       "      <td>1.00</td>\n",
       "    </tr>\n",
       "    <tr>\n",
       "      <th>75%</th>\n",
       "      <td>0.33</td>\n",
       "      <td>0.33</td>\n",
       "      <td>0.12</td>\n",
       "      <td>1.00</td>\n",
       "    </tr>\n",
       "    <tr>\n",
       "      <th>max</th>\n",
       "      <td>0.53</td>\n",
       "      <td>0.53</td>\n",
       "      <td>1.00</td>\n",
       "      <td>1.00</td>\n",
       "    </tr>\n",
       "  </tbody>\n",
       "</table>\n",
       "</div>"
      ],
      "text/plain": [
       "       Left_Eye_AR  Right_Eye_AR  Mouth_AR    Awake\n",
       "count      8130.00       8130.00   8130.00  8130.00\n",
       "mean          0.27          0.27      0.13     0.53\n",
       "std           0.08          0.07      0.20     0.50\n",
       "min           0.06          0.06      0.00     0.00\n",
       "25%           0.22          0.22      0.03     0.00\n",
       "50%           0.29          0.28      0.04     1.00\n",
       "75%           0.33          0.33      0.12     1.00\n",
       "max           0.53          0.53      1.00     1.00"
      ]
     },
     "execution_count": 56,
     "metadata": {},
     "output_type": "execute_result"
    }
   ],
   "source": [
    "data.describe()"
   ]
  },
  {
   "cell_type": "code",
   "execution_count": null,
   "metadata": {
    "is_executing": true
   },
   "outputs": [],
   "source": [
    "pd.plotting.scatter_matrix(data, alpha = 0.3, figsize = (40,40), diagonal = 'kde');"
   ]
  },
  {
   "cell_type": "code",
   "execution_count": 57,
   "metadata": {
    "ExecuteTime": {
     "end_time": "2023-06-05T21:58:29.579161100Z",
     "start_time": "2023-06-05T21:58:29.540024Z"
    }
   },
   "outputs": [],
   "source": [
    "def plot_roc_curve(test_y, y_score):\n",
    "    fpr, tpr, _ = roc_curve(test_y, y_score)\n",
    "    roc_auc = auc(fpr, tpr)\n",
    "    plt.figure()\n",
    "    plt.show()\n",
    "\n",
    "def plot_confussion_matrix(test_y, y_pred):\n",
    "    cnf_matrix = confusion_matrix(test_y, y_pred)\n",
    "    plt.figure(figsize=(10,7))\n",
    "    sns.heatmap(cnf_matrix, annot=True, fmt='d', cmap='Blues')\n",
    "    plt.xlabel('Predicted')\n",
    "    plt.ylabel('True')\n",
    "    plt.show()"
   ]
  },
  {
   "cell_type": "code",
   "execution_count": 58,
   "metadata": {
    "ExecuteTime": {
     "end_time": "2023-06-05T21:58:29.663093700Z",
     "start_time": "2023-06-05T21:58:29.556504700Z"
    }
   },
   "outputs": [],
   "source": [
    "# features\n",
    "X = data[['Left_Eye_AR', 'Right_Eye_AR', 'Mouth_AR']]\n",
    "\n",
    "# Target\n",
    "y = data['Awake']\n",
    "\n",
    "X_train, X_test, y_train, y_test = train_test_split(X, y, test_size=0.2, random_state=42)"
   ]
  },
  {
   "cell_type": "code",
   "execution_count": 59,
   "metadata": {
    "ExecuteTime": {
     "end_time": "2023-06-05T21:58:29.691461500Z",
     "start_time": "2023-06-05T21:58:29.571150400Z"
    }
   },
   "outputs": [
    {
     "name": "stdout",
     "output_type": "stream",
     "text": [
      "      Left_Eye_AR  Right_Eye_AR  Mouth_AR\n",
      "6684         0.36          0.34      0.00\n",
      "7978         0.34          0.33      0.00\n",
      "7663         0.25          0.23      0.03\n",
      "3307         0.15          0.14      0.03\n",
      "1149         0.32          0.28      0.18\n"
     ]
    }
   ],
   "source": [
    "# Normalize point coordinates\n",
    "# min_max_scaler = MinMaxScaler()\n",
    "# train_X = min_max_scaler.fit_transform(train_X)\n",
    "# test_X = min_max_scaler.fit_transform(test_X)\n",
    "print(X_train[:5])"
   ]
  },
  {
   "cell_type": "markdown",
   "metadata": {},
   "source": [
    "# Support Vector Machines (SVM)\n",
    "### This algorithm can model complex, non-linear relationships. It may work better than Logistic Regression if such relationships are present in the data. However, it may take longer to train, especially with large datasets."
   ]
  },
  {
   "cell_type": "code",
   "execution_count": 60,
   "metadata": {
    "ExecuteTime": {
     "end_time": "2023-06-05T21:58:29.772444800Z",
     "start_time": "2023-06-05T21:58:29.587835600Z"
    }
   },
   "outputs": [],
   "source": [
    "def evaluate_model(model):\n",
    "    # Make predictions\n",
    "    svm_predictions = model.predict(X_test)\n",
    "    print('Accuracy:', accuracy_score(y_test, svm_predictions))\n",
    "\n",
    "    # Evaluate the model\n",
    "    print(model.best_params_)\n",
    "    print(model.best_estimator_)\n",
    "    print(classification_report(y_test, svm_predictions))\n",
    "\n",
    "    #confussion matrix\n",
    "    y_pred = model.predict(X_test)\n",
    "    plot_confussion_matrix(y_test, y_pred)"
   ]
  },
  {
   "cell_type": "code",
   "execution_count": null,
   "metadata": {
    "ExecuteTime": {
     "start_time": "2023-06-05T21:58:29.605078700Z"
    },
    "is_executing": true
   },
   "outputs": [],
   "source": [
    "start = time.time()\n",
    "\n",
    "svm_params = {\n",
    "    'C': [0.1, 1, 10, 100],\n",
    "    'gamma': ['scale', 'auto', 1, 0.1, 0.01, 0.001],\n",
    "    'kernel': ['rbf', 'poly', 'sigmoid']\n",
    "}\n",
    "svm_grid_search = GridSearchCV(SVC(probability=True), svm_params, cv=5)\n",
    "\n",
    "# Fit the model\n",
    "svm_grid_search.fit(X_train, y_train)\n",
    "\n",
    "end = time.time()\n",
    "print(f'Time taken to train model: {end - start} seconds')\n",
    "print('Best parameters for SVM: ', svm_grid_search.best_params_)\n",
    "\n",
    "evaluate_model(svm_grid_search)"
   ]
  },
  {
   "cell_type": "markdown",
   "metadata": {},
   "source": [
    "# Random Forest Classifier\n",
    "### This is an ensemble method that builds multiple decision trees and combines their predictions. It often performs well out-of-the-box and can handle non-linear relationships."
   ]
  },
  {
   "cell_type": "code",
   "execution_count": null,
   "metadata": {
    "is_executing": true
   },
   "outputs": [],
   "source": [
    "start = time.time()\n",
    "rf_params = {\n",
    "    'n_estimators': [100, 200, 500],\n",
    "    'max_depth': [None, 10, 20, 30],\n",
    "    'min_samples_split': [2, 5, 10],\n",
    "    'min_samples_leaf': [1, 2, 4],\n",
    "}\n",
    "rf_grid_search = GridSearchCV(RandomForestClassifier(random_state=42), rf_params, cv=5)\n",
    "\n",
    "rf_grid_search.fit(X_train, y_train)\n",
    "\n",
    "end = time.time()\n",
    "\n",
    "print('Best parameters for RandomForestClassifier: ', rf_grid_search.best_params_)\n",
    "print(f'Time taken to train model: {end - start} seconds')\n",
    "\n",
    "evaluate_model(rf_grid_search)"
   ]
  },
  {
   "cell_type": "markdown",
   "metadata": {},
   "source": [
    "#  Gradient Boosting Classifier\n",
    "### This is another powerful ensemble method, which builds trees sequentially, each trying to correct the mistakes of the previous one."
   ]
  },
  {
   "cell_type": "code",
   "execution_count": null,
   "metadata": {
    "is_executing": true
   },
   "outputs": [],
   "source": [
    "start = time.time()\n",
    "\n",
    "gb_params = {\n",
    "    'n_estimators': [100, 200, 500],\n",
    "    'learning_rate': [0.01, 0.1, 1],\n",
    "    'max_depth': [3, 5, 7],\n",
    "    'min_samples_split': [2, 5, 10],\n",
    "    'min_samples_leaf': [1, 2, 4],\n",
    "}\n",
    "gb_grid_search = GridSearchCV(GradientBoostingClassifier(random_state=42), gb_params, cv=5)\n",
    "\n",
    "gb_grid_search.fit(X_train, y_train)\n",
    "\n",
    "end = time.time()\n",
    "\n",
    "print('Best parameters for GradientBoostingClassifier: ', gb_grid_search.best_params_)\n",
    "print(f'Time taken to train model: {end - start} seconds')\n",
    "\n",
    "evaluate_model(gb_grid_search)"
   ]
  },
  {
   "cell_type": "markdown",
   "metadata": {},
   "source": [
    "# Raspberry Pi script"
   ]
  },
  {
   "cell_type": "code",
   "execution_count": null,
   "metadata": {
    "is_executing": true
   },
   "outputs": [],
   "source": [
    "# to raspberry =>>\n",
    "import dlib\n",
    "import glob2\n",
    "import os\n",
    "import cv2\n",
    "import imutils\n",
    "from matplotlib import pyplot as plt\n",
    "import joblib\n",
    "\n",
    "DATASET = 'datasets/dmd/test'\n",
    "detector = dlib.get_frontal_face_detector()\n",
    "predictor = dlib.shape_predictor('datasets/dlib/shape_predictor_68_face_landmarks.dat')\n",
    "\n",
    "def get_landmarks_ratios(frame):\n",
    "\n",
    "    frame = imutils.resize(frame, width=640)\n",
    "    gray = cv2.cvtColor(frame, cv2.COLOR_BGR2GRAY)\n",
    "\n",
    "    # detect faces\n",
    "    faces = detector(gray)\n",
    "\n",
    "    if len(faces) == 0:\n",
    "        return None\n",
    "\n",
    "    # get the largest face\n",
    "    largest_face = None;\n",
    "    for face in faces:\n",
    "        largest_face_area = 0;\n",
    "        if face.area() > largest_face_area:\n",
    "            largest_face = face\n",
    "\n",
    "    shape = predictor(gray, largest_face)\n",
    "\n",
    "    # Extracting the indices of the facial features\n",
    "    (lStart, lEnd) = face_utils.FACIAL_LANDMARKS_IDXS[\"left_eye\"]\n",
    "    (rStart, rEnd) = face_utils.FACIAL_LANDMARKS_IDXS[\"right_eye\"]\n",
    "    (mStart, mEnd) = face_utils.FACIAL_LANDMARKS_IDXS[\"inner_mouth\"]\n",
    "\n",
    "    # Get coordinates for left eye, right eye, and mouth\n",
    "    left_eye = [(shape.part(i).x, shape.part(i).y) for i in range(lStart, lEnd)]\n",
    "    right_eye = [(shape.part(i).x, shape.part(i).y) for i in range(rStart, rEnd)]\n",
    "    mouth = [(shape.part(i).x, shape.part(i).y) for i in range(mStart, mEnd)]\n",
    "\n",
    "    # Compute aspect ratios for the eyes and mouth\n",
    "    def eye_aspect_ratio(eye):\n",
    "        A = dist.euclidean(eye[1], eye[5])\n",
    "        B = dist.euclidean(eye[2], eye[4])\n",
    "        C = dist.euclidean(eye[0], eye[3])\n",
    "        ear = (A + B) / (2.0 * C)\n",
    "        return ear\n",
    "\n",
    "    def mouth_aspect_ratio(mouth):\n",
    "        A = dist.euclidean(mouth[2], mouth[6])\n",
    "        C = dist.euclidean(mouth[0], mouth[4])\n",
    "        mar = A / C\n",
    "        return mar\n",
    "\n",
    "    left_ear = eye_aspect_ratio(left_eye)\n",
    "    right_ear = eye_aspect_ratio(right_eye)\n",
    "    mouth_ar = mouth_aspect_ratio(mouth)\n",
    "\n",
    "    return left_ear, right_ear, mouth_ar\n",
    "\n",
    "file_paths = glob2.glob(DATASET + '/**/*.jpg')\n",
    "rows = []\n",
    "\n",
    "for i, file_path in enumerate(file_paths):\n",
    "\n",
    "    img = cv2.imread(file_path)\n",
    "    ratios = get_landmarks_ratios(img)\n",
    "\n",
    "    print('\\n')\n",
    "    print(f'image: {file_path}')\n",
    "    if img is not None and ratios is not None:\n",
    "        features = np.array([ratios])\n",
    "        features = features.reshape(1, -1)\n",
    "        prediction = clf.predict(features)\n",
    "        print('Awake' if prediction[0] else 'Drowsy')\n",
    "    else:\n",
    "        print('No faces detected in the image.')\n",
    "\n",
    "        # test_row = {\n",
    "        #     \"Left_Eye_AR\": ratios[0],\n",
    "        #     \"Right_Eye_AR\": ratios[1],\n",
    "        #     \"Mouth_AR\": ratios[2]\n",
    "        # }\n",
    "        # df = pd.DataFrame(test_row)\n",
    "        #\n",
    "        # print(f'file_path')\n",
    "        # joblib.load(MODEL_PATH + '/svc.pkl')\n",
    "        # y_pred = clf.predict(df)\n",
    "        # print(f'Prediction: {y_pred}')"
   ]
  }
 ],
 "metadata": {
  "kernelspec": {
   "display_name": "Python 3 (ipykernel)",
   "language": "python",
   "name": "python3"
  },
  "language_info": {
   "codemirror_mode": {
    "name": "ipython",
    "version": 2
   },
   "file_extension": ".py",
   "mimetype": "text/x-python",
   "name": "python",
   "nbconvert_exporter": "python",
   "pygments_lexer": "ipython2",
   "version": "2.7.6"
  }
 },
 "nbformat": 4,
 "nbformat_minor": 1
}
