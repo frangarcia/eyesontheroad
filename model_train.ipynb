{
 "cells": [
  {
   "cell_type": "code",
   "execution_count": null,
   "metadata": {},
   "outputs": [],
   "source": [
    "import numpy as np\n",
    "import pandas as pd\n",
    "pd.set_option(\"display.precision\", 2)\n",
    "from matplotlib import pyplot as plt\n",
    "# Graphics in SVG format are more sharp and legible\n",
    "%config InlineBackend.figure_format = 'svg'\n",
    "#!pip install seaborn\n",
    "#!pip install scikit-learn\n",
    "import seaborn as sns\n",
    "sns.set()\n",
    "import time\n",
    "from sklearn.model_selection import train_test_split\n",
    "from sklearn.svm import SVC\n",
    "from sklearn.preprocessing import MinMaxScaler, label_binarize\n",
    "from sklearn.model_selection import GridSearchCV\n",
    "from sklearn.ensemble import RandomForestClassifier, GradientBoostingClassifier\n",
    "from sklearn.linear_model import LogisticRegression\n",
    "from sklearn.metrics import confusion_matrix, roc_curve, auc, accuracy_score, classification_report\n",
    "#!pip install joblib\n",
    "import joblib\n",
    "from scipy.spatial import distance as dist\n",
    "from imutils import face_utils"
   ]
  },
  {
   "cell_type": "code",
   "execution_count": null,
   "metadata": {},
   "outputs": [],
   "source": [
    "CSV_FILE = 'datasets/landmarks_ratios.csv'\n",
    "MODEL_PATH = 'models/landmarks'"
   ]
  },
  {
   "cell_type": "code",
   "execution_count": null,
   "metadata": {},
   "outputs": [],
   "source": [
    "data = pd.read_csv(CSV_FILE)\n",
    "data.head(5)"
   ]
  },
  {
   "cell_type": "code",
   "execution_count": null,
   "metadata": {},
   "outputs": [],
   "source": [
    "data = data.drop(columns=['Image'])\n",
    "data.head(5)"
   ]
  },
  {
   "cell_type": "code",
   "execution_count": null,
   "metadata": {},
   "outputs": [],
   "source": [
    "data.describe()"
   ]
  },
  {
   "cell_type": "code",
   "execution_count": null,
   "metadata": {},
   "outputs": [],
   "source": [
    "pd.plotting.scatter_matrix(data, alpha = 0.3, figsize = (10,10), diagonal = 'hist');"
   ]
  },
  {
   "cell_type": "code",
   "execution_count": null,
   "metadata": {},
   "outputs": [],
   "source": [
    "def plot_roc_curve(test_y, y_score):\n",
    "    fpr, tpr, _ = roc_curve(test_y, y_score)\n",
    "    roc_auc = auc(fpr, tpr)\n",
    "    plt.figure()\n",
    "    plt.show()\n",
    "\n",
    "def plot_confussion_matrix(test_y, y_pred):\n",
    "    cnf_matrix = confusion_matrix(test_y, y_pred)\n",
    "    plt.figure(figsize=(10,7))\n",
    "    sns.heatmap(cnf_matrix, annot=True, fmt='d', cmap='Blues')\n",
    "    plt.xlabel('Predicted')\n",
    "    plt.ylabel('True')\n",
    "    plt.show()"
   ]
  },
  {
   "cell_type": "code",
   "execution_count": null,
   "metadata": {},
   "outputs": [],
   "source": [
    "# features\n",
    "X = data[['Left_Eye_AR', 'Right_Eye_AR', 'Mouth_AR']]\n",
    "print(X.shape)\n",
    "\n",
    "# Target\n",
    "y = data['Awake']\n",
    "print(y.shape)\n",
    "\n",
    "X_train, X_test, y_train, y_test = train_test_split(X, y, test_size=0.2, random_state=42)"
   ]
  },
  {
   "cell_type": "code",
   "execution_count": null,
   "metadata": {},
   "outputs": [],
   "source": [
    "# Normalize point coordinates\n",
    "# min_max_scaler = MinMaxScaler()\n",
    "# X_train = min_max_scaler.fit_transform(X_train)\n",
    "# X_test = min_max_scaler.fit_transform(X_test)\n",
    "# print(X_train[:5])"
   ]
  },
  {
   "cell_type": "code",
   "execution_count": null,
   "metadata": {},
   "outputs": [],
   "source": [
    "def evaluate_model(model):\n",
    "    # Make predictions\n",
    "    svm_predictions = model.predict(X_test)\n",
    "    print('Accuracy:', accuracy_score(y_test, svm_predictions))\n",
    "\n",
    "    # Evaluate the model\n",
    "    print(classification_report(y_test, svm_predictions))\n",
    "\n",
    "    #confussion matrix\n",
    "    y_pred = model.predict(X_test)\n",
    "    plot_confussion_matrix(y_test, y_pred)"
   ]
  },
  {
   "cell_type": "markdown",
   "metadata": {},
   "source": [
    "# Logistic regresion model"
   ]
  },
  {
   "cell_type": "code",
   "execution_count": null,
   "metadata": {},
   "outputs": [],
   "source": [
    "start = time.time()\n",
    "\n",
    "log_reg_model = LogisticRegression(random_state=0, solver='lbfgs', multi_class='multinomial')\n",
    "\n",
    "log_reg_model.fit(X_train, y_train)\n",
    "\n",
    "end = time.time()\n",
    "print(f'Time taken to train model: {end - start} seconds')\n",
    "# print('Best parameters for SVM: ', svm_grid_search.best_params_)\n",
    "\n",
    "joblib.dump(log_reg_model, MODEL_PATH + '/logr.pkl' )\n",
    "\n",
    "evaluate_model(log_reg_model)"
   ]
  },
  {
   "cell_type": "markdown",
   "metadata": {},
   "source": [
    "# Support Vector Machines (SVM)\n",
    "### This algorithm can model complex, non-linear relationships. It may work better than Logistic Regression if such relationships are present in the data. However, it may take longer to train, especially with large datasets."
   ]
  },
  {
   "cell_type": "code",
   "execution_count": null,
   "metadata": {},
   "outputs": [],
   "source": [
    "start = time.time()\n",
    "\n",
    "    # 'gamma': ['scale', 'auto', 1, 0.1, 0.01, 0.001],\n",
    "    # 'kernel': ['rbf',  'sigmoid']\n",
    "svm_params = {\n",
    "    'C': [200],\n",
    "    'gamma': ['scale'],\n",
    "    'kernel': ['rbf']\n",
    "}\n",
    "# svm_grid_search = GridSearchCV(SVC(probability=True), svm_params, cv=5)\n",
    "\n",
    "svm_grid_search = SVC(\n",
    "    probability=True,\n",
    "    C=200,\n",
    "    gamma='scale',\n",
    "    kernel='rbf'\n",
    ")\n",
    "# Fit the model\n",
    "svm_grid_search.fit(X_train, y_train)\n",
    "\n",
    "end = time.time()\n",
    "print(f'Time taken to train model: {end - start} seconds')\n",
    "# print('Best parameters for SVM: ', svm_grid_search.best_params_)\n",
    "\n",
    "joblib.dump(svm_grid_search, MODEL_PATH + '/svm.pkl' )\n",
    "\n",
    "evaluate_model(svm_grid_search)"
   ]
  },
  {
   "cell_type": "markdown",
   "metadata": {},
   "source": [
    "# Random Forest Classifier\n",
    "### This is an ensemble method that builds multiple decision trees and combines their predictions. It often performs well out-of-the-box and can handle non-linear relationships."
   ]
  },
  {
   "cell_type": "code",
   "execution_count": 157,
   "metadata": {
    "ExecuteTime": {
     "end_time": "2023-06-07T18:19:13.651160Z",
     "start_time": "2023-06-07T18:19:11.700901Z"
    }
   },
   "outputs": [
    {
     "name": "stdout",
     "output_type": "stream",
     "text": [
      "Time taken to train model: 867.4575142860413 seconds\n",
      "Accuracy: 0.8271832718327183\n",
      "              precision    recall  f1-score   support\n",
      "\n",
      "           0       0.84      0.80      0.82       804\n",
      "           1       0.82      0.85      0.83       822\n",
      "\n",
      "    accuracy                           0.83      1626\n",
      "   macro avg       0.83      0.83      0.83      1626\n",
      "weighted avg       0.83      0.83      0.83      1626\n",
      "\n"
     ]
    },
    {
     "data": {
      "text/plain": "<Figure size 1000x700 with 2 Axes>",
      "image/svg+xml": "<?xml version=\"1.0\" encoding=\"utf-8\" standalone=\"no\"?>\n<!DOCTYPE svg PUBLIC \"-//W3C//DTD SVG 1.1//EN\"\n  \"http://www.w3.org/Graphics/SVG/1.1/DTD/svg11.dtd\">\n<svg xmlns:xlink=\"http://www.w3.org/1999/xlink\" width=\"570.489313pt\" height=\"437.014219pt\" viewBox=\"0 0 570.489313 437.014219\" xmlns=\"http://www.w3.org/2000/svg\" version=\"1.1\">\n <metadata>\n  <rdf:RDF xmlns:dc=\"http://purl.org/dc/elements/1.1/\" xmlns:cc=\"http://creativecommons.org/ns#\" xmlns:rdf=\"http://www.w3.org/1999/02/22-rdf-syntax-ns#\">\n   <cc:Work>\n    <dc:type rdf:resource=\"http://purl.org/dc/dcmitype/StillImage\"/>\n    <dc:date>2023-06-07T20:19:13.500744</dc:date>\n    <dc:format>image/svg+xml</dc:format>\n    <dc:creator>\n     <cc:Agent>\n      <dc:title>Matplotlib v3.7.1, https://matplotlib.org/</dc:title>\n     </cc:Agent>\n    </dc:creator>\n   </cc:Work>\n  </rdf:RDF>\n </metadata>\n <defs>\n  <style type=\"text/css\">*{stroke-linejoin: round; stroke-linecap: butt}</style>\n </defs>\n <g id=\"figure_1\">\n  <g id=\"patch_1\">\n   <path d=\"M 0 437.014219 \nL 570.489313 437.014219 \nL 570.489313 0 \nL 0 0 \nz\n\" style=\"fill: #ffffff\"/>\n  </g>\n  <g id=\"axes_1\">\n   <g id=\"patch_2\">\n    <path d=\"M 41.734219 395.28 \nL 488.134219 395.28 \nL 488.134219 7.2 \nL 41.734219 7.2 \nz\n\" style=\"fill: #eaeaf2\"/>\n   </g>\n   <g id=\"matplotlib.axis_1\">\n    <g id=\"xtick_1\">\n     <g id=\"line2d_1\">\n      <path d=\"M 153.334219 395.28 \nL 153.334219 7.2 \n\" clip-path=\"url(#p135fef4d4d)\" style=\"fill: none; stroke: #ffffff; stroke-linecap: round\"/>\n     </g>\n     <g id=\"text_1\">\n      <!-- 0 -->\n      <g style=\"fill: #262626\" transform=\"translate(150.275703 412.653594) scale(0.11 -0.11)\">\n       <defs>\n        <path id=\"ArialMT-30\" d=\"M 266 2259 \nQ 266 3072 433 3567 \nQ 600 4063 929 4331 \nQ 1259 4600 1759 4600 \nQ 2128 4600 2406 4451 \nQ 2684 4303 2865 4023 \nQ 3047 3744 3150 3342 \nQ 3253 2941 3253 2259 \nQ 3253 1453 3087 958 \nQ 2922 463 2592 192 \nQ 2263 -78 1759 -78 \nQ 1097 -78 719 397 \nQ 266 969 266 2259 \nz\nM 844 2259 \nQ 844 1131 1108 757 \nQ 1372 384 1759 384 \nQ 2147 384 2411 759 \nQ 2675 1134 2675 2259 \nQ 2675 3391 2411 3762 \nQ 2147 4134 1753 4134 \nQ 1366 4134 1134 3806 \nQ 844 3388 844 2259 \nz\n\" transform=\"scale(0.015625)\"/>\n       </defs>\n       <use xlink:href=\"#ArialMT-30\"/>\n      </g>\n     </g>\n    </g>\n    <g id=\"xtick_2\">\n     <g id=\"line2d_2\">\n      <path d=\"M 376.534219 395.28 \nL 376.534219 7.2 \n\" clip-path=\"url(#p135fef4d4d)\" style=\"fill: none; stroke: #ffffff; stroke-linecap: round\"/>\n     </g>\n     <g id=\"text_2\">\n      <!-- 1 -->\n      <g style=\"fill: #262626\" transform=\"translate(373.475703 412.653594) scale(0.11 -0.11)\">\n       <defs>\n        <path id=\"ArialMT-31\" d=\"M 2384 0 \nL 1822 0 \nL 1822 3584 \nQ 1619 3391 1289 3197 \nQ 959 3003 697 2906 \nL 697 3450 \nQ 1169 3672 1522 3987 \nQ 1875 4303 2022 4600 \nL 2384 4600 \nL 2384 0 \nz\n\" transform=\"scale(0.015625)\"/>\n       </defs>\n       <use xlink:href=\"#ArialMT-31\"/>\n      </g>\n     </g>\n    </g>\n    <g id=\"text_3\">\n     <!-- Predicted -->\n     <g style=\"fill: #262626\" transform=\"translate(239.587969 427.429219) scale(0.12 -0.12)\">\n      <defs>\n       <path id=\"ArialMT-50\" d=\"M 494 0 \nL 494 4581 \nL 2222 4581 \nQ 2678 4581 2919 4538 \nQ 3256 4481 3484 4323 \nQ 3713 4166 3852 3881 \nQ 3991 3597 3991 3256 \nQ 3991 2672 3619 2267 \nQ 3247 1863 2275 1863 \nL 1100 1863 \nL 1100 0 \nL 494 0 \nz\nM 1100 2403 \nL 2284 2403 \nQ 2872 2403 3119 2622 \nQ 3366 2841 3366 3238 \nQ 3366 3525 3220 3729 \nQ 3075 3934 2838 4000 \nQ 2684 4041 2272 4041 \nL 1100 4041 \nL 1100 2403 \nz\n\" transform=\"scale(0.015625)\"/>\n       <path id=\"ArialMT-72\" d=\"M 416 0 \nL 416 3319 \nL 922 3319 \nL 922 2816 \nQ 1116 3169 1280 3281 \nQ 1444 3394 1641 3394 \nQ 1925 3394 2219 3213 \nL 2025 2691 \nQ 1819 2813 1613 2813 \nQ 1428 2813 1281 2702 \nQ 1134 2591 1072 2394 \nQ 978 2094 978 1738 \nL 978 0 \nL 416 0 \nz\n\" transform=\"scale(0.015625)\"/>\n       <path id=\"ArialMT-65\" d=\"M 2694 1069 \nL 3275 997 \nQ 3138 488 2766 206 \nQ 2394 -75 1816 -75 \nQ 1088 -75 661 373 \nQ 234 822 234 1631 \nQ 234 2469 665 2931 \nQ 1097 3394 1784 3394 \nQ 2450 3394 2872 2941 \nQ 3294 2488 3294 1666 \nQ 3294 1616 3291 1516 \nL 816 1516 \nQ 847 969 1125 678 \nQ 1403 388 1819 388 \nQ 2128 388 2347 550 \nQ 2566 713 2694 1069 \nz\nM 847 1978 \nL 2700 1978 \nQ 2663 2397 2488 2606 \nQ 2219 2931 1791 2931 \nQ 1403 2931 1139 2672 \nQ 875 2413 847 1978 \nz\n\" transform=\"scale(0.015625)\"/>\n       <path id=\"ArialMT-64\" d=\"M 2575 0 \nL 2575 419 \nQ 2259 -75 1647 -75 \nQ 1250 -75 917 144 \nQ 584 363 401 755 \nQ 219 1147 219 1656 \nQ 219 2153 384 2558 \nQ 550 2963 881 3178 \nQ 1213 3394 1622 3394 \nQ 1922 3394 2156 3267 \nQ 2391 3141 2538 2938 \nL 2538 4581 \nL 3097 4581 \nL 3097 0 \nL 2575 0 \nz\nM 797 1656 \nQ 797 1019 1065 703 \nQ 1334 388 1700 388 \nQ 2069 388 2326 689 \nQ 2584 991 2584 1609 \nQ 2584 2291 2321 2609 \nQ 2059 2928 1675 2928 \nQ 1300 2928 1048 2622 \nQ 797 2316 797 1656 \nz\n\" transform=\"scale(0.015625)\"/>\n       <path id=\"ArialMT-69\" d=\"M 425 3934 \nL 425 4581 \nL 988 4581 \nL 988 3934 \nL 425 3934 \nz\nM 425 0 \nL 425 3319 \nL 988 3319 \nL 988 0 \nL 425 0 \nz\n\" transform=\"scale(0.015625)\"/>\n       <path id=\"ArialMT-63\" d=\"M 2588 1216 \nL 3141 1144 \nQ 3050 572 2676 248 \nQ 2303 -75 1759 -75 \nQ 1078 -75 664 370 \nQ 250 816 250 1647 \nQ 250 2184 428 2587 \nQ 606 2991 970 3192 \nQ 1334 3394 1763 3394 \nQ 2303 3394 2647 3120 \nQ 2991 2847 3088 2344 \nL 2541 2259 \nQ 2463 2594 2264 2762 \nQ 2066 2931 1784 2931 \nQ 1359 2931 1093 2626 \nQ 828 2322 828 1663 \nQ 828 994 1084 691 \nQ 1341 388 1753 388 \nQ 2084 388 2306 591 \nQ 2528 794 2588 1216 \nz\n\" transform=\"scale(0.015625)\"/>\n       <path id=\"ArialMT-74\" d=\"M 1650 503 \nL 1731 6 \nQ 1494 -44 1306 -44 \nQ 1000 -44 831 53 \nQ 663 150 594 308 \nQ 525 466 525 972 \nL 525 2881 \nL 113 2881 \nL 113 3319 \nL 525 3319 \nL 525 4141 \nL 1084 4478 \nL 1084 3319 \nL 1650 3319 \nL 1650 2881 \nL 1084 2881 \nL 1084 941 \nQ 1084 700 1114 631 \nQ 1144 563 1211 522 \nQ 1278 481 1403 481 \nQ 1497 481 1650 503 \nz\n\" transform=\"scale(0.015625)\"/>\n      </defs>\n      <use xlink:href=\"#ArialMT-50\"/>\n      <use xlink:href=\"#ArialMT-72\" x=\"66.699219\"/>\n      <use xlink:href=\"#ArialMT-65\" x=\"100\"/>\n      <use xlink:href=\"#ArialMT-64\" x=\"155.615234\"/>\n      <use xlink:href=\"#ArialMT-69\" x=\"211.230469\"/>\n      <use xlink:href=\"#ArialMT-63\" x=\"233.447266\"/>\n      <use xlink:href=\"#ArialMT-74\" x=\"283.447266\"/>\n      <use xlink:href=\"#ArialMT-65\" x=\"311.230469\"/>\n      <use xlink:href=\"#ArialMT-64\" x=\"366.845703\"/>\n     </g>\n    </g>\n   </g>\n   <g id=\"matplotlib.axis_2\">\n    <g id=\"ytick_1\">\n     <g id=\"line2d_3\">\n      <path d=\"M 41.734219 104.22 \nL 488.134219 104.22 \n\" clip-path=\"url(#p135fef4d4d)\" style=\"fill: none; stroke: #ffffff; stroke-linecap: round\"/>\n     </g>\n     <g id=\"text_4\">\n      <!-- 0 -->\n      <g style=\"fill: #262626\" transform=\"translate(30.047969 107.278516) rotate(-90) scale(0.11 -0.11)\">\n       <use xlink:href=\"#ArialMT-30\"/>\n      </g>\n     </g>\n    </g>\n    <g id=\"ytick_2\">\n     <g id=\"line2d_4\">\n      <path d=\"M 41.734219 298.26 \nL 488.134219 298.26 \n\" clip-path=\"url(#p135fef4d4d)\" style=\"fill: none; stroke: #ffffff; stroke-linecap: round\"/>\n     </g>\n     <g id=\"text_5\">\n      <!-- 1 -->\n      <g style=\"fill: #262626\" transform=\"translate(30.047969 301.318516) rotate(-90) scale(0.11 -0.11)\">\n       <use xlink:href=\"#ArialMT-31\"/>\n      </g>\n     </g>\n    </g>\n    <g id=\"text_6\">\n     <!-- True -->\n     <g style=\"fill: #262626\" transform=\"translate(15.789375 213.350625) rotate(-90) scale(0.12 -0.12)\">\n      <defs>\n       <path id=\"ArialMT-54\" d=\"M 1659 0 \nL 1659 4041 \nL 150 4041 \nL 150 4581 \nL 3781 4581 \nL 3781 4041 \nL 2266 4041 \nL 2266 0 \nL 1659 0 \nz\n\" transform=\"scale(0.015625)\"/>\n       <path id=\"ArialMT-75\" d=\"M 2597 0 \nL 2597 488 \nQ 2209 -75 1544 -75 \nQ 1250 -75 995 37 \nQ 741 150 617 320 \nQ 494 491 444 738 \nQ 409 903 409 1263 \nL 409 3319 \nL 972 3319 \nL 972 1478 \nQ 972 1038 1006 884 \nQ 1059 663 1231 536 \nQ 1403 409 1656 409 \nQ 1909 409 2131 539 \nQ 2353 669 2445 892 \nQ 2538 1116 2538 1541 \nL 2538 3319 \nL 3100 3319 \nL 3100 0 \nL 2597 0 \nz\n\" transform=\"scale(0.015625)\"/>\n      </defs>\n      <use xlink:href=\"#ArialMT-54\"/>\n      <use xlink:href=\"#ArialMT-72\" x=\"57.333984\"/>\n      <use xlink:href=\"#ArialMT-75\" x=\"90.634766\"/>\n      <use xlink:href=\"#ArialMT-65\" x=\"146.25\"/>\n     </g>\n    </g>\n   </g>\n   <g id=\"QuadMesh_1\">\n    <path d=\"M 41.734219 7.2 \nL 264.934219 7.2 \nL 264.934219 201.24 \nL 41.734219 201.24 \nL 41.734219 7.2 \n\" clip-path=\"url(#p135fef4d4d)\" style=\"fill: #08478d\"/>\n    <path d=\"M 264.934219 7.2 \nL 488.134219 7.2 \nL 488.134219 201.24 \nL 264.934219 201.24 \nL 264.934219 7.2 \n\" clip-path=\"url(#p135fef4d4d)\" style=\"fill: #ecf4fb\"/>\n    <path d=\"M 41.734219 201.24 \nL 264.934219 201.24 \nL 264.934219 395.28 \nL 41.734219 395.28 \nL 41.734219 201.24 \n\" clip-path=\"url(#p135fef4d4d)\" style=\"fill: #f7fbff\"/>\n    <path d=\"M 264.934219 201.24 \nL 488.134219 201.24 \nL 488.134219 395.28 \nL 264.934219 395.28 \nL 264.934219 201.24 \n\" clip-path=\"url(#p135fef4d4d)\" style=\"fill: #08306b\"/>\n   </g>\n   <g id=\"text_7\">\n    <!-- 647 -->\n    <g style=\"fill: #ffffff\" transform=\"translate(143.324531 107.322187) scale(0.12 -0.12)\">\n     <defs>\n      <path id=\"ArialMT-36\" d=\"M 3184 3459 \nL 2625 3416 \nQ 2550 3747 2413 3897 \nQ 2184 4138 1850 4138 \nQ 1581 4138 1378 3988 \nQ 1113 3794 959 3422 \nQ 806 3050 800 2363 \nQ 1003 2672 1297 2822 \nQ 1591 2972 1913 2972 \nQ 2475 2972 2870 2558 \nQ 3266 2144 3266 1488 \nQ 3266 1056 3080 686 \nQ 2894 316 2569 119 \nQ 2244 -78 1831 -78 \nQ 1128 -78 684 439 \nQ 241 956 241 2144 \nQ 241 3472 731 4075 \nQ 1159 4600 1884 4600 \nQ 2425 4600 2770 4297 \nQ 3116 3994 3184 3459 \nz\nM 888 1484 \nQ 888 1194 1011 928 \nQ 1134 663 1356 523 \nQ 1578 384 1822 384 \nQ 2178 384 2434 671 \nQ 2691 959 2691 1453 \nQ 2691 1928 2437 2201 \nQ 2184 2475 1800 2475 \nQ 1419 2475 1153 2201 \nQ 888 1928 888 1484 \nz\n\" transform=\"scale(0.015625)\"/>\n      <path id=\"ArialMT-34\" d=\"M 2069 0 \nL 2069 1097 \nL 81 1097 \nL 81 1613 \nL 2172 4581 \nL 2631 4581 \nL 2631 1613 \nL 3250 1613 \nL 3250 1097 \nL 2631 1097 \nL 2631 0 \nL 2069 0 \nz\nM 2069 1613 \nL 2069 3678 \nL 634 1613 \nL 2069 1613 \nz\n\" transform=\"scale(0.015625)\"/>\n      <path id=\"ArialMT-37\" d=\"M 303 3981 \nL 303 4522 \nL 3269 4522 \nL 3269 4084 \nQ 2831 3619 2401 2847 \nQ 1972 2075 1738 1259 \nQ 1569 684 1522 0 \nL 944 0 \nQ 953 541 1156 1306 \nQ 1359 2072 1739 2783 \nQ 2119 3494 2547 3981 \nL 303 3981 \nz\n\" transform=\"scale(0.015625)\"/>\n     </defs>\n     <use xlink:href=\"#ArialMT-36\"/>\n     <use xlink:href=\"#ArialMT-34\" x=\"55.615234\"/>\n     <use xlink:href=\"#ArialMT-37\" x=\"111.230469\"/>\n    </g>\n   </g>\n   <g id=\"text_8\">\n    <!-- 157 -->\n    <g style=\"fill: #262626\" transform=\"translate(366.524531 107.322187) scale(0.12 -0.12)\">\n     <defs>\n      <path id=\"ArialMT-35\" d=\"M 266 1200 \nL 856 1250 \nQ 922 819 1161 601 \nQ 1400 384 1738 384 \nQ 2144 384 2425 690 \nQ 2706 997 2706 1503 \nQ 2706 1984 2436 2262 \nQ 2166 2541 1728 2541 \nQ 1456 2541 1237 2417 \nQ 1019 2294 894 2097 \nL 366 2166 \nL 809 4519 \nL 3088 4519 \nL 3088 3981 \nL 1259 3981 \nL 1013 2750 \nQ 1425 3038 1878 3038 \nQ 2478 3038 2890 2622 \nQ 3303 2206 3303 1553 \nQ 3303 931 2941 478 \nQ 2500 -78 1738 -78 \nQ 1113 -78 717 272 \nQ 322 622 266 1200 \nz\n\" transform=\"scale(0.015625)\"/>\n     </defs>\n     <use xlink:href=\"#ArialMT-31\"/>\n     <use xlink:href=\"#ArialMT-35\" x=\"55.615234\"/>\n     <use xlink:href=\"#ArialMT-37\" x=\"111.230469\"/>\n    </g>\n   </g>\n   <g id=\"text_9\">\n    <!-- 124 -->\n    <g style=\"fill: #262626\" transform=\"translate(143.324531 301.362187) scale(0.12 -0.12)\">\n     <defs>\n      <path id=\"ArialMT-32\" d=\"M 3222 541 \nL 3222 0 \nL 194 0 \nQ 188 203 259 391 \nQ 375 700 629 1000 \nQ 884 1300 1366 1694 \nQ 2113 2306 2375 2664 \nQ 2638 3022 2638 3341 \nQ 2638 3675 2398 3904 \nQ 2159 4134 1775 4134 \nQ 1369 4134 1125 3890 \nQ 881 3647 878 3216 \nL 300 3275 \nQ 359 3922 746 4261 \nQ 1134 4600 1788 4600 \nQ 2447 4600 2831 4234 \nQ 3216 3869 3216 3328 \nQ 3216 3053 3103 2787 \nQ 2991 2522 2730 2228 \nQ 2469 1934 1863 1422 \nQ 1356 997 1212 845 \nQ 1069 694 975 541 \nL 3222 541 \nz\n\" transform=\"scale(0.015625)\"/>\n     </defs>\n     <use xlink:href=\"#ArialMT-31\"/>\n     <use xlink:href=\"#ArialMT-32\" x=\"55.615234\"/>\n     <use xlink:href=\"#ArialMT-34\" x=\"111.230469\"/>\n    </g>\n   </g>\n   <g id=\"text_10\">\n    <!-- 698 -->\n    <g style=\"fill: #ffffff\" transform=\"translate(366.524531 301.362187) scale(0.12 -0.12)\">\n     <defs>\n      <path id=\"ArialMT-39\" d=\"M 350 1059 \nL 891 1109 \nQ 959 728 1153 556 \nQ 1347 384 1650 384 \nQ 1909 384 2104 503 \nQ 2300 622 2425 820 \nQ 2550 1019 2634 1356 \nQ 2719 1694 2719 2044 \nQ 2719 2081 2716 2156 \nQ 2547 1888 2255 1720 \nQ 1963 1553 1622 1553 \nQ 1053 1553 659 1965 \nQ 266 2378 266 3053 \nQ 266 3750 677 4175 \nQ 1088 4600 1706 4600 \nQ 2153 4600 2523 4359 \nQ 2894 4119 3086 3673 \nQ 3278 3228 3278 2384 \nQ 3278 1506 3087 986 \nQ 2897 466 2520 194 \nQ 2144 -78 1638 -78 \nQ 1100 -78 759 220 \nQ 419 519 350 1059 \nz\nM 2653 3081 \nQ 2653 3566 2395 3850 \nQ 2138 4134 1775 4134 \nQ 1400 4134 1122 3828 \nQ 844 3522 844 3034 \nQ 844 2597 1108 2323 \nQ 1372 2050 1759 2050 \nQ 2150 2050 2401 2323 \nQ 2653 2597 2653 3081 \nz\n\" transform=\"scale(0.015625)\"/>\n      <path id=\"ArialMT-38\" d=\"M 1131 2484 \nQ 781 2613 612 2850 \nQ 444 3088 444 3419 \nQ 444 3919 803 4259 \nQ 1163 4600 1759 4600 \nQ 2359 4600 2725 4251 \nQ 3091 3903 3091 3403 \nQ 3091 3084 2923 2848 \nQ 2756 2613 2416 2484 \nQ 2838 2347 3058 2040 \nQ 3278 1734 3278 1309 \nQ 3278 722 2862 322 \nQ 2447 -78 1769 -78 \nQ 1091 -78 675 323 \nQ 259 725 259 1325 \nQ 259 1772 486 2073 \nQ 713 2375 1131 2484 \nz\nM 1019 3438 \nQ 1019 3113 1228 2906 \nQ 1438 2700 1772 2700 \nQ 2097 2700 2305 2904 \nQ 2513 3109 2513 3406 \nQ 2513 3716 2298 3927 \nQ 2084 4138 1766 4138 \nQ 1444 4138 1231 3931 \nQ 1019 3725 1019 3438 \nz\nM 838 1322 \nQ 838 1081 952 856 \nQ 1066 631 1291 507 \nQ 1516 384 1775 384 \nQ 2178 384 2440 643 \nQ 2703 903 2703 1303 \nQ 2703 1709 2433 1975 \nQ 2163 2241 1756 2241 \nQ 1359 2241 1098 1978 \nQ 838 1716 838 1322 \nz\n\" transform=\"scale(0.015625)\"/>\n     </defs>\n     <use xlink:href=\"#ArialMT-36\"/>\n     <use xlink:href=\"#ArialMT-39\" x=\"55.615234\"/>\n     <use xlink:href=\"#ArialMT-38\" x=\"111.230469\"/>\n    </g>\n   </g>\n  </g>\n  <g id=\"axes_2\">\n   <g id=\"patch_3\">\n    <path d=\"M 516.034219 395.28 \nL 535.438219 395.28 \nL 535.438219 7.2 \nL 516.034219 7.2 \nz\n\" style=\"fill: #eaeaf2\"/>\n   </g>\n   <g id=\"matplotlib.axis_3\"/>\n   <g id=\"matplotlib.axis_4\">\n    <g id=\"ytick_3\">\n     <g id=\"line2d_5\">\n      <defs>\n       <path id=\"mb5acea9bdb\" d=\"M 0 0 \nL 6 0 \n\" style=\"stroke: #262626; stroke-width: 1.25\"/>\n      </defs>\n      <g>\n       <use xlink:href=\"#mb5acea9bdb\" x=\"535.438219\" y=\"343.896585\" style=\"fill: #262626; stroke: #262626; stroke-width: 1.25\"/>\n      </g>\n     </g>\n     <g id=\"text_11\">\n      <!-- 200 -->\n      <g style=\"fill: #262626\" transform=\"translate(544.938219 347.833382) scale(0.11 -0.11)\">\n       <use xlink:href=\"#ArialMT-32\"/>\n       <use xlink:href=\"#ArialMT-30\" x=\"55.615234\"/>\n       <use xlink:href=\"#ArialMT-30\" x=\"111.230469\"/>\n      </g>\n     </g>\n    </g>\n    <g id=\"ytick_4\">\n     <g id=\"line2d_6\">\n      <g>\n       <use xlink:href=\"#mb5acea9bdb\" x=\"535.438219\" y=\"276.286829\" style=\"fill: #262626; stroke: #262626; stroke-width: 1.25\"/>\n      </g>\n     </g>\n     <g id=\"text_12\">\n      <!-- 300 -->\n      <g style=\"fill: #262626\" transform=\"translate(544.938219 280.223626) scale(0.11 -0.11)\">\n       <defs>\n        <path id=\"ArialMT-33\" d=\"M 269 1209 \nL 831 1284 \nQ 928 806 1161 595 \nQ 1394 384 1728 384 \nQ 2125 384 2398 659 \nQ 2672 934 2672 1341 \nQ 2672 1728 2419 1979 \nQ 2166 2231 1775 2231 \nQ 1616 2231 1378 2169 \nL 1441 2663 \nQ 1497 2656 1531 2656 \nQ 1891 2656 2178 2843 \nQ 2466 3031 2466 3422 \nQ 2466 3731 2256 3934 \nQ 2047 4138 1716 4138 \nQ 1388 4138 1169 3931 \nQ 950 3725 888 3313 \nL 325 3413 \nQ 428 3978 793 4289 \nQ 1159 4600 1703 4600 \nQ 2078 4600 2393 4439 \nQ 2709 4278 2876 4000 \nQ 3044 3722 3044 3409 \nQ 3044 3113 2884 2869 \nQ 2725 2625 2413 2481 \nQ 2819 2388 3044 2092 \nQ 3269 1797 3269 1353 \nQ 3269 753 2831 336 \nQ 2394 -81 1725 -81 \nQ 1122 -81 723 278 \nQ 325 638 269 1209 \nz\n\" transform=\"scale(0.015625)\"/>\n       </defs>\n       <use xlink:href=\"#ArialMT-33\"/>\n       <use xlink:href=\"#ArialMT-30\" x=\"55.615234\"/>\n       <use xlink:href=\"#ArialMT-30\" x=\"111.230469\"/>\n      </g>\n     </g>\n    </g>\n    <g id=\"ytick_5\">\n     <g id=\"line2d_7\">\n      <g>\n       <use xlink:href=\"#mb5acea9bdb\" x=\"535.438219\" y=\"208.677073\" style=\"fill: #262626; stroke: #262626; stroke-width: 1.25\"/>\n      </g>\n     </g>\n     <g id=\"text_13\">\n      <!-- 400 -->\n      <g style=\"fill: #262626\" transform=\"translate(544.938219 212.61387) scale(0.11 -0.11)\">\n       <use xlink:href=\"#ArialMT-34\"/>\n       <use xlink:href=\"#ArialMT-30\" x=\"55.615234\"/>\n       <use xlink:href=\"#ArialMT-30\" x=\"111.230469\"/>\n      </g>\n     </g>\n    </g>\n    <g id=\"ytick_6\">\n     <g id=\"line2d_8\">\n      <g>\n       <use xlink:href=\"#mb5acea9bdb\" x=\"535.438219\" y=\"141.067317\" style=\"fill: #262626; stroke: #262626; stroke-width: 1.25\"/>\n      </g>\n     </g>\n     <g id=\"text_14\">\n      <!-- 500 -->\n      <g style=\"fill: #262626\" transform=\"translate(544.938219 145.004114) scale(0.11 -0.11)\">\n       <use xlink:href=\"#ArialMT-35\"/>\n       <use xlink:href=\"#ArialMT-30\" x=\"55.615234\"/>\n       <use xlink:href=\"#ArialMT-30\" x=\"111.230469\"/>\n      </g>\n     </g>\n    </g>\n    <g id=\"ytick_7\">\n     <g id=\"line2d_9\">\n      <g>\n       <use xlink:href=\"#mb5acea9bdb\" x=\"535.438219\" y=\"73.457561\" style=\"fill: #262626; stroke: #262626; stroke-width: 1.25\"/>\n      </g>\n     </g>\n     <g id=\"text_15\">\n      <!-- 600 -->\n      <g style=\"fill: #262626\" transform=\"translate(544.938219 77.394358) scale(0.11 -0.11)\">\n       <use xlink:href=\"#ArialMT-36\"/>\n       <use xlink:href=\"#ArialMT-30\" x=\"55.615234\"/>\n       <use xlink:href=\"#ArialMT-30\" x=\"111.230469\"/>\n      </g>\n     </g>\n    </g>\n   </g>\n   <image xlink:href=\"data:image/png;base64,\niVBORw0KGgoAAAANSUhEUgAAABsAAAIbCAYAAAAaS+V8AAACZElEQVR4nO2d0W3rUAzFbgPvv24/AtgZwoQAEeQCgnxEWWnea//+v89zhvhMFTrnnGuur/HOzlxrs50NNjae2Rx5tq9YUiMkNYJXarFn2sy8xbyZeT1rQBDEL0/zwSOVOs8Q8gwhzxDybF8x8YCcpAZIagR1ZlbPzAfPHHm2r1hSIyQ1glfqPEPIM4Q8Q8izfcWSGiGpEbxS5xlCniHkGYL5LBAPSFK/J6kR8gwhzxDyDMF8FiQ1QFIjXPeg1WWG4F3E4t14lxlAnu0rJh6QpCZIagRxZ3fTCNAGQfBmltQI3gFRf6a2TuM9WKzMEPIMIc8QvJl1FiCI11VfjxC0rhDUr5i5Ym0QBG9mDQiC+esRbWf9VI4gzxDEu7FpJOiDxb5i4gHxdub9NlecmbYz71nQNBI0jfuKmQdksFijj2CeRm1n2s9n4sy8nYmncbCY+uCxDoj55Vlm78kzBHFmYs8Gi+XZvmJdxAgtYgRxZnlG0MsTwXzw5BmA+ODxDkhSEyQ1gvng0f7rpDwjyLN9xcQD4pW6g4cgzxDKDKHMENSZSTtr9BG8A1JmCGWGUGYIZYbgzawBQfAOSJkhlBmCurO5YmWGIM7sHvzmR33wzBVLaoQyQygzBHVm1s7EfzzUmlmPEaHOEFpXCOLM6owgzxDEmWk76zEiiDtrXRHUGYK4szwjqLN9xbyPUdxZ64qgzhDqDKENgiDOTNvZ9OhLH+N1nrlfpVtmCGWGUGYI6s6axvd0FiA0IAhlhlBmCGWGUGYI17H+7xFvZj1GhNYVQpkhlBlCmSGUGYL6LGhA3lNmCN7Mfv2sHPKlVdkcAAAAAElFTkSuQmCC\" id=\"imageab9ce5bc35\" transform=\"scale(1 -1) translate(0 -388.08)\" x=\"516.24\" y=\"-6.48\" width=\"19.44\" height=\"388.08\"/>\n   <g id=\"LineCollection_1\"/>\n   <g id=\"patch_4\">\n    <path d=\"M 516.034219 395.28 \nL 525.736219 395.28 \nL 535.438219 395.28 \nL 535.438219 7.2 \nL 525.736219 7.2 \nL 516.034219 7.2 \nL 516.034219 395.28 \nz\n\" style=\"fill: none\"/>\n   </g>\n  </g>\n </g>\n <defs>\n  <clipPath id=\"p135fef4d4d\">\n   <rect x=\"41.734219\" y=\"7.2\" width=\"446.4\" height=\"388.08\"/>\n  </clipPath>\n </defs>\n</svg>\n"
     },
     "metadata": {},
     "output_type": "display_data"
    },
    {
     "data": {
      "text/plain": "['models/landmarks/rfgrid.pkl']"
     },
     "execution_count": 157,
     "metadata": {},
     "output_type": "execute_result"
    }
   ],
   "source": [
    "#hyperparameters\n",
    "# rf_params = {\n",
    "#     'n_estimators': [100, 200, 500],\n",
    "#     'max_depth': [None, 10, 20, 30],\n",
    "#     'min_samples_split': [2, 5, 10],\n",
    "#     'min_samples_leaf': [1, 2, 4],\n",
    "# }\n",
    "# rf_grid_search = GridSearchCV(RandomForestClassifier(random_state=0), rf_params, cv=5)\n",
    "# rf_grid_search.fit(X_train, y_train)\n",
    "# print('Best parameters for RandomForestClassifier: ', rf_grid_search.best_params_)\n",
    "\n",
    "#model training\n",
    "# start = time.time()\n",
    "# best_params = {\n",
    "#     'n_estimators': [500],\n",
    "#     'max_depth': [None, 10, 20, 30],\n",
    "#     'min_samples_split': [2, 5, 10],\n",
    "#     'min_samples_leaf': [1, 2, 4],\n",
    "# }\n",
    "model = RandomForestClassifier(\n",
    "    n_estimators=500,\n",
    "    max_depth=10,\n",
    "    min_samples_leaf=1,\n",
    "    min_samples_split=10\n",
    ")\n",
    "model.fit(X_train, y_train)\n",
    "end = time.time()\n",
    "print(f'Time taken to train model: {end - start} seconds')\n",
    "\n",
    "evaluate_model(model)\n",
    "\n",
    "#save the model\n",
    "joblib.dump(model, MODEL_PATH + '/rfgrid.pkl' )"
   ]
  },
  {
   "cell_type": "markdown",
   "metadata": {},
   "source": [
    "#  Gradient Boosting Classifier\n",
    "### This is another powerful ensemble method, which builds trees sequentially, each trying to correct the mistakes of the previous one."
   ]
  },
  {
   "cell_type": "code",
   "execution_count": null,
   "metadata": {},
   "outputs": [],
   "source": [
    "start = time.time()\n",
    "\n",
    "# gb_params = {\n",
    "#     'n_estimators': [500],\n",
    "#     'learning_rate': [0.1],\n",
    "#     'max_depth': [3],\n",
    "#     'min_samples_split': [5],\n",
    "#     'min_samples_leaf': [1],\n",
    "# }\n",
    "# gb_grid_search = GridSearchCV(GradientBoostingClassifier(random_state=42), gb_params, cv=5)\n",
    "\n",
    "# gb_grid_search.fit(X_train, y_train)\n",
    "\n",
    "gb_grid_search = GradientBoostingClassifier(\n",
    "    n_estimators=500,\n",
    "    learning_rate=0.1,\n",
    "    max_depth=3,\n",
    "    random_state=42,\n",
    "    min_samples_split=5,\n",
    "    min_samples_leaf=1\n",
    ");\n",
    "\n",
    "gb_grid_search.fit(X_train, y_train)\n",
    "end = time.time()\n",
    "\n",
    "joblib.dump(gb_grid_search, MODEL_PATH + '/gbgrid.pkl' )\n",
    "#\n",
    "# print('Best parameters for GradientBoostingClassifier: ', gb_grid_search.best_params_)\n",
    "print(f'Time taken to train model: {end - start} seconds')\n",
    "\n",
    "evaluate_model(gb_grid_search)"
   ]
  },
  {
   "cell_type": "markdown",
   "metadata": {},
   "source": [
    "# Raspberry Pi script"
   ]
  },
  {
   "cell_type": "code",
   "execution_count": null,
   "metadata": {
    "is_executing": true
   },
   "outputs": [],
   "source": [
    "# to raspberry =>>\n",
    "import dlib\n",
    "import glob2\n",
    "import os\n",
    "import cv2\n",
    "import imutils\n",
    "from matplotlib import pyplot as plt\n",
    "import joblib\n",
    "\n",
    "DATASET = 'datasets/dmd/test'\n",
    "detector = dlib.get_frontal_face_detector()\n",
    "predictor = dlib.shape_predictor('datasets/dlib/shape_predictor_68_face_landmarks.dat')\n",
    "\n",
    "def get_landmarks_ratios(frame):\n",
    "\n",
    "    frame = imutils.resize(frame, width=640)\n",
    "    gray = cv2.cvtColor(frame, cv2.COLOR_BGR2GRAY)\n",
    "\n",
    "    # detect faces\n",
    "    faces = detector(gray)\n",
    "\n",
    "    if len(faces) == 0:\n",
    "        return None\n",
    "\n",
    "    # get the largest face\n",
    "    largest_face = None;\n",
    "    for face in faces:\n",
    "        largest_face_area = 0;\n",
    "        if face.area() > largest_face_area:\n",
    "            largest_face = face\n",
    "\n",
    "    shape = predictor(gray, largest_face)\n",
    "\n",
    "    # Extracting the indices of the facial features\n",
    "    (lStart, lEnd) = face_utils.FACIAL_LANDMARKS_IDXS[\"left_eye\"]\n",
    "    (rStart, rEnd) = face_utils.FACIAL_LANDMARKS_IDXS[\"right_eye\"]\n",
    "    (mStart, mEnd) = face_utils.FACIAL_LANDMARKS_IDXS[\"inner_mouth\"]\n",
    "\n",
    "    # Get coordinates for left eye, right eye, and mouth\n",
    "    left_eye = [(shape.part(i).x, shape.part(i).y) for i in range(lStart, lEnd)]\n",
    "    right_eye = [(shape.part(i).x, shape.part(i).y) for i in range(rStart, rEnd)]\n",
    "    mouth = [(shape.part(i).x, shape.part(i).y) for i in range(mStart, mEnd)]\n",
    "\n",
    "    # Compute aspect ratios for the eyes and mouth\n",
    "    def eye_aspect_ratio(eye):\n",
    "        A = dist.euclidean(eye[1], eye[5])\n",
    "        B = dist.euclidean(eye[2], eye[4])\n",
    "        C = dist.euclidean(eye[0], eye[3])\n",
    "        ear = (A + B) / (2.0 * C)\n",
    "        return ear\n",
    "\n",
    "    def mouth_aspect_ratio(mouth):\n",
    "        A = dist.euclidean(mouth[2], mouth[6])\n",
    "        C = dist.euclidean(mouth[0], mouth[4])\n",
    "        mar = A / C\n",
    "        return mar\n",
    "\n",
    "    left_ear = eye_aspect_ratio(left_eye)\n",
    "    right_ear = eye_aspect_ratio(right_eye)\n",
    "    mouth_ar = mouth_aspect_ratio(mouth)\n",
    "\n",
    "    return left_ear, right_ear, mouth_ar\n",
    "\n",
    "file_paths = glob2.glob(DATASET + '/**/*.jpg')\n",
    "rows = []\n",
    "model = joblib.load(MODEL_PATH + '/pimodel.pkl')\n",
    "for i, file_path in enumerate(file_paths):\n",
    "\n",
    "    img = cv2.imread(file_path)\n",
    "    ratios = get_landmarks_ratios(img)\n",
    "\n",
    "    print('\\n')\n",
    "    print(f'image: {file_path}')\n",
    "    if img is not None and ratios is not None:\n",
    "        features = np.array([ratios])\n",
    "        features = features.reshape(1, -1)\n",
    "        predictions = model.predict(features)\n",
    "        print(predictions)\n",
    "        print('Awake' if predictions[0] else 'Drowsy')\n",
    "    else:\n",
    "        print('No faces detected in the image.')\n",
    "\n",
    "        # test_row = {\n",
    "        #     \"Left_Eye_AR\": ratios[0],\n",
    "        #     \"Right_Eye_AR\": ratios[1],\n",
    "        #     \"Mouth_AR\": ratios[2]\n",
    "        # }\n",
    "        # df = pd.DataFrame(test_row)\n",
    "        #\n",
    "        # print(f'file_path')\n",
    "        # joblib.load(MODEL_PATH + '/svc.pkl')\n",
    "        # y_pred = clf.predict(df)\n",
    "        # print(f'Prediction: {y_pred}')"
   ]
  }
 ],
 "metadata": {
  "kernelspec": {
   "display_name": "Python 3 (ipykernel)",
   "language": "python",
   "name": "python3"
  },
  "language_info": {
   "codemirror_mode": {
    "name": "ipython",
    "version": 3
   },
   "file_extension": ".py",
   "mimetype": "text/x-python",
   "name": "python",
   "nbconvert_exporter": "python",
   "pygments_lexer": "ipython3",
   "version": "3.9.16"
  }
 },
 "nbformat": 4,
 "nbformat_minor": 1
}
