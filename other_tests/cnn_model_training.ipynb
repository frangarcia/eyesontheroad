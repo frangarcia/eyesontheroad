{
 "cells": [
  {
   "cell_type": "code",
   "execution_count": null,
   "metadata": {
    "collapsed": true
   },
   "outputs": [],
   "source": [
    "import tensorflow as tf\n",
    "from tensorflow.keras.layers.experimental import preprocessing\n",
    "import keras_tuner as kt"
   ]
  },
  {
   "cell_type": "code",
   "execution_count": null,
   "metadata": {},
   "outputs": [],
   "source": [
    "INPUT_SHAPE = (224, 224, 3)\n",
    "DATA_DIR = './datasets/dmd/labels'\n",
    "BATCH_SIZE = 32\n",
    "IMG_SIZE = (180, 180)\n",
    "VALIDATION_SPLIT = 0.2"
   ]
  },
  {
   "cell_type": "code",
   "execution_count": null,
   "metadata": {},
   "outputs": [],
   "source": [
    "(train_ds, val_ds) = tf.keras.utils.image_dataset_from_directory(\n",
    "    DATA_DIR,\n",
    "    labels='inferred',\n",
    "    label_mode='int',\n",
    "    validation_split=VALIDATION_SPLIT,\n",
    "    subset='both',\n",
    "    color_mode='grayscale',\n",
    "    seed=2,\n",
    "    shuffle=0,\n",
    "    image_size=IMG_SIZE,\n",
    "    batch_size=BATCH_SIZE)"
   ]
  },
  {
   "cell_type": "code",
   "execution_count": null,
   "metadata": {},
   "outputs": [],
   "source": [
    "class_names = train_ds.class_names\n",
    "num_classes = len(class_names)\n",
    "print(class_names)"
   ]
  },
  {
   "cell_type": "code",
   "execution_count": null,
   "metadata": {},
   "outputs": [],
   "source": [
    "layers_data_augmentation = tf.keras.Sequential([\n",
    "        preprocessing.RandomFlip(\"horizontal\"),\n",
    "        preprocessing.RandomRotation(0.3, fill_mode='constant'),\n",
    "        preprocessing.RandomZoom(0.2),\n",
    "        tf.keras.layers.RandomBrightness(factor=0.2)]\n",
    ")"
   ]
  },
  {
   "cell_type": "code",
   "execution_count": null,
   "metadata": {},
   "outputs": [],
   "source": [
    "def model_builder(hp):\n",
    "    model = tf.keras.Sequential();\n",
    "    # model.add(layers_data_augmentation)\n",
    "    model.add(tf.keras.layers.Flatten(input_shape=IMG_SIZE))\n",
    "\n",
    "    # hp_layer_1_nodes = hp.Int('layer_1_nodes', min_value=32, max_value=128, step=16)\n",
    "    # hp_layer_2_nodes = hp.Int('layer_2_nodes', min_value=32, max_value=128, step=16)\n",
    "    # hp_learning_rate = hp.Choice('learning_rate', values=[1e-2, 1e-3, 1e-4])\n",
    "\n",
    "    hp_layer_1_nodes = 80\n",
    "    hp_layer_2_nodes = 128\n",
    "    hp_learning_rate = 1e-2\n",
    "\n",
    "    model.add(tf.keras.layers.Dense(units=hp_layer_1_nodes, activation='relu'))\n",
    "    model.add(tf.keras.layers.Dense(units=hp_layer_2_nodes, activation='relu'))\n",
    "    model.add(tf.keras.layers.Dense(num_classes, activation='softmax'))\n",
    "\n",
    "    model.compile(\n",
    "        # optimizer=tf.keras.optimizers.Adam(learning_rate=hp_learning_rate),\n",
    "        optimizer=tf.keras.optimizers.legacy.Adam(learning_rate=hp_learning_rate),\n",
    "        loss=tf.keras.losses.SparseCategoricalCrossentropy(),\n",
    "        metrics=['accuracy']\n",
    "    )\n",
    "    return model"
   ]
  },
  {
   "cell_type": "code",
   "execution_count": null,
   "metadata": {},
   "outputs": [],
   "source": [
    "tuner = kt.Hyperband(model_builder,\n",
    "     objective='accuracy',  # duda: deberíamos de utilizar 'val_accuracy' (validación) pero no funciona.\n",
    "     max_epochs=2,\n",
    "     factor=3,\n",
    "     directory='models',\n",
    "     project_name='cnn_hp'\n",
    "     )"
   ]
  },
  {
   "cell_type": "code",
   "execution_count": null,
   "metadata": {},
   "outputs": [],
   "source": [
    "early_stop = tf.keras.callbacks.EarlyStopping(monitor='loss', patience=3)\n",
    "tuner.search(train_ds, epochs=2, callbacks=[early_stop])"
   ]
  },
  {
   "cell_type": "code",
   "execution_count": null,
   "metadata": {},
   "outputs": [],
   "source": [
    "best_hps= tuner.get_best_hyperparameters(num_trials=1)[0]\n",
    "best_model = tuner.get_best_models(num_models=1)[0]\n",
    "loss, accuracy = best_model.evaluate(val_ds)\n",
    "print(\"Accuracy: {:.2f}%\".format(accuracy * 100))"
   ]
  },
  {
   "cell_type": "code",
   "execution_count": null,
   "metadata": {},
   "outputs": [],
   "source": [
    "best_hp = tuner.get_best_hyperparameters()[0]\n",
    "model = tuner.hypermodel.build(best_hp)"
   ]
  },
  {
   "cell_type": "code",
   "execution_count": null,
   "metadata": {},
   "outputs": [],
   "source": [
    "best_model_update = tf.keras.callbacks.ModelCheckpoint('./models/cnn/best', save_best_only=True, monitor='accuracy')\n",
    "model.fit(train_ds, batch_size=BATCH_SIZE, epochs=50,  callbacks=[early_stop, best_model_update])"
   ]
  },
  {
   "cell_type": "code",
   "execution_count": null,
   "metadata": {},
   "outputs": [],
   "source": [
    "print(model.summary())"
   ]
  },
  {
   "cell_type": "code",
   "execution_count": null,
   "outputs": [],
   "source": [],
   "metadata": {
    "collapsed": false
   }
  }
 ],
 "metadata": {
  "kernelspec": {
   "display_name": "Python 3 (ipykernel)",
   "language": "python",
   "name": "python3"
  },
  "language_info": {
   "codemirror_mode": {
    "name": "ipython",
    "version": 3
   },
   "file_extension": ".py",
   "mimetype": "text/x-python",
   "name": "python",
   "nbconvert_exporter": "python",
   "pygments_lexer": "ipython3",
   "version": "3.9.16"
  }
 },
 "nbformat": 4,
 "nbformat_minor": 1
}
